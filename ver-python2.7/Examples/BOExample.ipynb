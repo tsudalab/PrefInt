{
 "cells": [
  {
   "cell_type": "markdown",
   "metadata": {},
   "source": [
    "# Search for the best molecule with maximum target values in the candidate dataset."
   ]
  },
  {
   "cell_type": "code",
   "execution_count": 1,
   "metadata": {},
   "outputs": [],
   "source": [
    "import numpy as np\n",
    "import pandas as pd\n",
    "\n",
    "from PrefInt.utility.bopredict import BOpred"
   ]
  },
  {
   "cell_type": "code",
   "execution_count": 2,
   "metadata": {},
   "outputs": [],
   "source": [
    "# loaddata\n",
    "loaddata = np.array(pd.read_csv('data/moldata/expmol.csv'))\n",
    "expdata_1 = loaddata[:,1:]\n",
    "loaddata = np.array(pd.read_csv('data/moldata/simmol.csv'))\n",
    "#randomly choose some if the external data for training\n",
    "np.random.shuffle(loaddata)\n",
    "simdata_1 = loaddata[:50,1:]"
   ]
  },
  {
   "cell_type": "code",
   "execution_count": 3,
   "metadata": {},
   "outputs": [
    {
     "name": "stdout",
     "output_type": "stream",
     "text": [
      "1226 pairs generated\n",
      "start training......\n",
      "start iteration......\n",
      "select y is 491.0 current best y is 491.0 the indicator is 7\n",
      "try next point......\n",
      "start iteration......\n",
      "select y is 460.0 current best y is 491.0 the indicator is 7\n",
      "try next point......\n",
      "start iteration......\n",
      "select y is 489.0 current best y is 491.0 the indicator is 7\n",
      "try next point......\n",
      "start iteration......\n",
      "select y is 384.0 current best y is 491.0 the indicator is 7\n",
      "try next point......\n",
      "start iteration......\n",
      "select y is 324.0 current best y is 491.0 the indicator is 7\n",
      "try next point......\n",
      "start iteration......\n",
      "select y is 222.0 current best y is 491.0 the indicator is 7\n",
      "try next point......\n",
      "start iteration......\n",
      "select y is 552.0 current best y is 552.0 the indicator is 12\n",
      "try next point......\n",
      "start iteration......\n",
      "select y is 180.0 current best y is 552.0 the indicator is 12\n",
      "try next point......\n",
      "start iteration......\n",
      "select y is 332.0 current best y is 552.0 the indicator is 12\n",
      "try next point......\n",
      "start iteration......\n",
      "select y is 411.0 current best y is 552.0 the indicator is 12\n",
      "try next point......\n",
      "start iteration......\n",
      "select y is 331.0 current best y is 552.0 the indicator is 12\n",
      "try next point......\n",
      "start iteration......\n",
      "select y is 334.0 current best y is 552.0 the indicator is 12\n",
      "taking time 214.255614042 s\n"
     ]
    }
   ],
   "source": [
    "#expdata_1: candidate dataset \n",
    "#simdata_1: external dataset with imcompatible function values\n",
    "BO = BOpred(expdata_1,simdata_1)\n",
    "#bestx:  best candidate descriptors\n",
    "#besty: best candidate's target value\n",
    "bestx, besty = BO.predict()"
   ]
  },
  {
   "cell_type": "code",
   "execution_count": 4,
   "metadata": {},
   "outputs": [
    {
     "name": "stdout",
     "output_type": "stream",
     "text": [
      "[12.586967435122194 -0.3386311623414795 12.586967435122194\n",
      " 0.07834619341563775 0.9341370586316279 326.78300000000013\n",
      " 311.66300000000007 326.08220539999996 116.0 0.0 0.21111403921818594\n",
      " -0.3776594307286488 0.3776594307286488 0.21111403921818594\n",
      " 0.8695652173913043 1.4347826086956519 2.0 1.9482946492817947\n",
      " 823.1701593507382 16.560113453385565 12.76047680295392 13.516405748972375\n",
      " 10.986071002992368 7.113981989953915 7.491946462963142 5.459115524293077\n",
      " 5.837079997302305 3.7152618867939218 4.075886916531888 2.4441118520301703\n",
      " 2.678978839458151 -2.5899999999999994 179238.41724406325\n",
      " 15.311239944158606 5.893593272736997 2.731492049656618 138.9187221070078\n",
      " 10.216698334856806 10.72932566516943 0.0 11.566489892729876 0.0 0.0\n",
      " 9.589074368143644 0.0 0.0 0.0 35.86640816407895 24.26546827384644\n",
      " 36.59701949811549 0.0 9.589074368143644 34.54220233232952 0.0 0.0 0.0 0.0\n",
      " 24.312042300211193 70.38716519625629 0.0 0.0 10.216698334856806\n",
      " 11.374772549367124 0.0 11.600939890232516 25.661833858084254 0.0 0.0\n",
      " 20.71597735153764 59.26026221286231 0.0 0.0 0.0 49.41 0.0\n",
      " 9.589074368143644 0.0 22.295815557899303 16.814289258077554\n",
      " 5.687386274683562 0.0 24.26546827384644 43.2607219700513\n",
      " 5.316788604006331 11.600939890232516 0.0 6.125870356373001\n",
      " 26.87816788472693 2.89828457000084 2.564432847595728 -0.6146625409423025\n",
      " 14.199313200461287 0.0 0.0 3.893038126228963 0.1111111111111111 23.0 1.0\n",
      " 4.0 1.0 0.0 1.0 2.0 0.0 2.0 4.0 1.0 5.0 3.0 0.0 0.0 0.0 3.0\n",
      " 3.6941000000000015 92.37370000000004 0.0 0.0 0.0 0.0 0.0 0.0 0.0 0.0 0.0\n",
      " 0.0 2.0 2.0 0.0 0.0 0.0 1.0 1.0 0.0 0.0 0.0 0.0 0.0 0.0 0.0 0.0 0.0 2.0\n",
      " 0.0 0.0 2.0 0.0 0.0 0.0 0.0 2.0 0.0 1.0 0.0 0.0 0.0 0.0 0.0 0.0 0.0 1.0\n",
      " 0.0 0.0 0.0 0.0 0.0 0.0 2.0 2.0 0.0 0.0 0.0 0.0 0.0 0.0 0.0 0.0 0.0 0.0\n",
      " 0.0 0.0 0.0 0.0 0.0 0.0 0.0 0.0 0.0 0.0 0.0 0.0 0.0 0.0 0.0 0.0 0.0 0.0\n",
      " 0.0 0.0 0.0 0.0] 552.0\n"
     ]
    }
   ],
   "source": [
    "print bestx, besty"
   ]
  },
  {
   "cell_type": "code",
   "execution_count": 5,
   "metadata": {},
   "outputs": [
    {
     "name": "stdout",
     "output_type": "stream",
     "text": [
      "history function values:\n",
      "[491.0, 460.0, 489.0, 384.0, 324.0, 222.0, 552.0, 180.0, 332.0, 411.0, 331.0, 334.0]\n",
      "history best function values:\n",
      "[491.0, 491.0, 491.0, 491.0, 491.0, 491.0, 552.0, 552.0, 552.0, 552.0, 552.0, 552.0]\n",
      "history act:\n",
      "[7, 13, 6, 8, 9, 10, 12, 11, 2, 4, 3, 1]\n",
      "history of best act\n",
      "[7, 7, 7, 7, 7, 7, 12, 12, 12, 12, 12, 12]\n"
     ]
    }
   ],
   "source": [
    "BO.showall()"
   ]
  }
 ],
 "metadata": {
  "kernelspec": {
   "display_name": "Python 2",
   "language": "python",
   "name": "python2"
  },
  "language_info": {
   "codemirror_mode": {
    "name": "ipython",
    "version": 2
   },
   "file_extension": ".py",
   "mimetype": "text/x-python",
   "name": "python",
   "nbconvert_exporter": "python",
   "pygments_lexer": "ipython2",
   "version": "2.7.10"
  }
 },
 "nbformat": 4,
 "nbformat_minor": 2
}
