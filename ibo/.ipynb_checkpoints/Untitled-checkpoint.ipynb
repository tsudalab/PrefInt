{
 "cells": [
  {
   "cell_type": "code",
   "execution_count": 16,
   "metadata": {},
   "outputs": [
    {
     "ename": "ImportError",
     "evalue": "No module named ego.gaussianprocess",
     "output_type": "error",
     "traceback": [
      "\u001b[0;31m---------------------------------------------------------------------------\u001b[0m",
      "\u001b[0;31mImportError\u001b[0m                               Traceback (most recent call last)",
      "\u001b[0;32m<ipython-input-16-0eda2ec53baa>\u001b[0m in \u001b[0;36m<module>\u001b[0;34m()\u001b[0m\n\u001b[1;32m      4\u001b[0m \u001b[0;32mfrom\u001b[0m \u001b[0mgaussianprocess\u001b[0m \u001b[0;32mimport\u001b[0m \u001b[0mPrefGaussianProcess\u001b[0m\u001b[0;34m\u001b[0m\u001b[0m\n\u001b[1;32m      5\u001b[0m \u001b[0;32mfrom\u001b[0m \u001b[0mgaussianprocess\u001b[0m\u001b[0;34m.\u001b[0m\u001b[0mkernel\u001b[0m \u001b[0;32mimport\u001b[0m \u001b[0mGaussianKernel_iso\u001b[0m\u001b[0;34m\u001b[0m\u001b[0m\n\u001b[0;32m----> 6\u001b[0;31m \u001b[0;32mfrom\u001b[0m \u001b[0macquisition\u001b[0m\u001b[0;34m.\u001b[0m\u001b[0mprefutil\u001b[0m \u001b[0;32mimport\u001b[0m \u001b[0mquery2prefs\u001b[0m\u001b[0;34m\u001b[0m\u001b[0m\n\u001b[0m",
      "\u001b[0;32m/Users/sxl324/F_Documents/IBO-master/ego/acquisition/__init__.py\u001b[0m in \u001b[0;36m<module>\u001b[0;34m()\u001b[0m\n\u001b[1;32m     34\u001b[0m \u001b[0;32mimport\u001b[0m \u001b[0mos\u001b[0m\u001b[0;34m.\u001b[0m\u001b[0mpath\u001b[0m\u001b[0;34m\u001b[0m\u001b[0m\n\u001b[1;32m     35\u001b[0m \u001b[0;34m\u001b[0m\u001b[0m\n\u001b[0;32m---> 36\u001b[0;31m \u001b[0;32mfrom\u001b[0m \u001b[0mego\u001b[0m\u001b[0;34m.\u001b[0m\u001b[0mgaussianprocess\u001b[0m \u001b[0;32mimport\u001b[0m \u001b[0mGaussianProcess\u001b[0m\u001b[0;34m,\u001b[0m \u001b[0mPrefGaussianProcess\u001b[0m\u001b[0;34m,\u001b[0m \u001b[0mCDF\u001b[0m\u001b[0;34m,\u001b[0m \u001b[0mPDF\u001b[0m\u001b[0;34m\u001b[0m\u001b[0m\n\u001b[0m\u001b[1;32m     37\u001b[0m \u001b[0;32mfrom\u001b[0m \u001b[0mego\u001b[0m\u001b[0;34m.\u001b[0m\u001b[0mrandomforest\u001b[0m \u001b[0;32mimport\u001b[0m \u001b[0mRandomForest\u001b[0m\u001b[0;34m\u001b[0m\u001b[0m\n\u001b[1;32m     38\u001b[0m \u001b[0;32mfrom\u001b[0m \u001b[0mego\u001b[0m\u001b[0;34m.\u001b[0m\u001b[0mgaussianprocess\u001b[0m\u001b[0;34m.\u001b[0m\u001b[0mkernel\u001b[0m \u001b[0;32mimport\u001b[0m \u001b[0mGaussianKernel_iso\u001b[0m\u001b[0;34m,\u001b[0m \u001b[0mGaussianKernel_ard\u001b[0m\u001b[0;34m,\u001b[0m \u001b[0mMaternKernel3\u001b[0m\u001b[0;34m,\u001b[0m \u001b[0mMaternKernel5\u001b[0m\u001b[0;34m\u001b[0m\u001b[0m\n",
      "\u001b[0;31mImportError\u001b[0m: No module named ego.gaussianprocess"
     ]
    }
   ],
   "source": [
    "from __future__ import division \n",
    "import numpy as np\n",
    "\n",
    "from gaussianprocess import PrefGaussianProcess\n",
    "from gaussianprocess.kernel import GaussianKernel_iso\n",
    "from acquisition.prefutil import query2prefs"
   ]
  },
  {
   "cell_type": "code",
   "execution_count": 15,
   "metadata": {},
   "outputs": [
    {
     "ename": "NameError",
     "evalue": "name 'query2prefs' is not defined",
     "output_type": "error",
     "traceback": [
      "\u001b[0;31m---------------------------------------------------------------------------\u001b[0m",
      "\u001b[0;31mNameError\u001b[0m                                 Traceback (most recent call last)",
      "\u001b[0;32m<ipython-input-15-4c3e04df9490>\u001b[0m in \u001b[0;36m<module>\u001b[0;34m()\u001b[0m\n\u001b[1;32m      1\u001b[0m \u001b[0mkernel\u001b[0m \u001b[0;34m=\u001b[0m \u001b[0mGaussianKernel_iso\u001b[0m\u001b[0;34m(\u001b[0m\u001b[0mnp\u001b[0m\u001b[0;34m.\u001b[0m\u001b[0marray\u001b[0m\u001b[0;34m(\u001b[0m\u001b[0;34m[\u001b[0m\u001b[0;36m1.0\u001b[0m\u001b[0;34m]\u001b[0m\u001b[0;34m)\u001b[0m\u001b[0;34m)\u001b[0m\u001b[0;34m\u001b[0m\u001b[0m\n\u001b[0;32m----> 2\u001b[0;31m \u001b[0mprefs\u001b[0m \u001b[0;34m=\u001b[0m \u001b[0mquery2prefs\u001b[0m\u001b[0;34m\u001b[0m\u001b[0m\n\u001b[0m",
      "\u001b[0;31mNameError\u001b[0m: name 'query2prefs' is not defined"
     ]
    }
   ],
   "source": [
    "kernel = GaussianKernel_iso(np.array([1.0]))\n",
    "prefs = query2prefs"
   ]
  },
  {
   "cell_type": "code",
   "execution_count": null,
   "metadata": {},
   "outputs": [],
   "source": []
  }
 ],
 "metadata": {
  "kernelspec": {
   "display_name": "Python 2",
   "language": "python",
   "name": "python2"
  },
  "language_info": {
   "codemirror_mode": {
    "name": "ipython",
    "version": 2
   },
   "file_extension": ".py",
   "mimetype": "text/x-python",
   "name": "python",
   "nbconvert_exporter": "python",
   "pygments_lexer": "ipython2",
   "version": "2.7.10"
  }
 },
 "nbformat": 4,
 "nbformat_minor": 2
}
